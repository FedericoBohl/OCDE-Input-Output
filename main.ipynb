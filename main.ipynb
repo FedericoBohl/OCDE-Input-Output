{
 "cells": [
  {
   "cell_type": "code",
   "execution_count": 45,
   "id": "2389c1fa",
   "metadata": {},
   "outputs": [],
   "source": [
    "import pandas as pd\n",
    "import numpy as np\n",
    "import os"
   ]
  },
  {
   "cell_type": "code",
   "execution_count": 53,
   "id": "c042667f",
   "metadata": {},
   "outputs": [],
   "source": [
    "year=2015\n",
    "df=pd.read_csv(f'{year}_SML.csv')\n",
    "\n",
    "countries = sorted({col[:3] for col in df.columns if len(col) >= 3 and col[:3].isalpha()})\n",
    "# Remove the specified columns for all countries in the dataframe\n",
    "for country in countries:\n",
    "    cols_to_remove = [f\"{country}_HFCE\", f\"{country}_NPISH\", f\"{country}_GGFC\", f\"{country}_GFCF\", f\"{country}_INVNT\", f\"{country}_DPABR\"]\n",
    "    df = df.drop(columns=[col for col in cols_to_remove if col in df.columns])"
   ]
  },
  {
   "cell_type": "code",
   "execution_count": 54,
   "id": "66668351",
   "metadata": {},
   "outputs": [],
   "source": [
    "for i in countries:\n",
    "    sub_df = df.loc[df['V1'].str.contains(i, na=False)]\n",
    "    sub_df = df.loc[df['V1'].str.contains(i, na=False), [col for col in df.columns if i in col or col == 'V1']]\n",
    "    sub_df.set_index('V1', inplace=True)\n",
    "    sub_df.to_csv(f'Datos/Datos-{year}/{i}.csv')"
   ]
  },
  {
   "cell_type": "code",
   "execution_count": null,
   "id": "f8335583",
   "metadata": {},
   "outputs": [],
   "source": []
  }
 ],
 "metadata": {
  "kernelspec": {
   "display_name": "Python 3",
   "language": "python",
   "name": "python3"
  },
  "language_info": {
   "codemirror_mode": {
    "name": "ipython",
    "version": 3
   },
   "file_extension": ".py",
   "mimetype": "text/x-python",
   "name": "python",
   "nbconvert_exporter": "python",
   "pygments_lexer": "ipython3",
   "version": "3.11.2"
  }
 },
 "nbformat": 4,
 "nbformat_minor": 5
}
